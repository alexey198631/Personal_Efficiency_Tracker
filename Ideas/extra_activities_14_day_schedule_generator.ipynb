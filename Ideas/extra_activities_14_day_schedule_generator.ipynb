{
 "cells": [
  {
   "cell_type": "code",
   "execution_count": null,
   "id": "7aa73fda",
   "metadata": {},
   "outputs": [],
   "source": [
    "\"\"\"\n",
    "As someone with a wide range of interests, I often find myself struggling to allocate time for each of my projects. \n",
    "I have a strong desire to dedicate time to various interests, such as Kaggle, Leetcode, completing long-overdue \n",
    "Python courses from Teclado, a PyQT course, preparing for English tests like CAE and IELTS just for fun, \n",
    "writing essays on books in English, and working on freelance projects. \n",
    "\n",
    "However, finding the right balance between these activities and effectively managing my time can be challenging, \n",
    "especially considering my current main priorities: Python, the Dutch language, and my 5-day work at Yokogawa.\n",
    "\n",
    "In the past, I adopted a strategy that involved dividing a 14-day period into blocks and distributing my main \n",
    "activities during that time. This approach allowed me to delve deeper into Python, a journey I continue to this day. Now, I face a similar challenge with my seven new blocks: [kaggle], [leetcode], [teclado], [pyqt], [testing_eng], [writing_eng], and [freelance].\n",
    "\n",
    "Although seven is the ideal number to incorporate into my daily schedule, I recognize that I don't have a couple \n",
    "of free hours every day. Consequently, I can once again allocate a 14-day timeframe and dedicate two hours \n",
    "to each activity every other day. If I cannot keep up, the following day will serve as a backup for catching up.\n",
    "\n",
    "By adopting this method, I hope to overcome the remorse I feel for not being able to find the time and inspiration \n",
    "to dedicate to all of my interests. In doing so, I aim to achieve a balance between these various pursuits \n",
    "and continue to grow both professionally and personally.\n",
    "\n",
    "\"\"\""
   ]
  },
  {
   "cell_type": "code",
   "execution_count": 15,
   "id": "97cd671a",
   "metadata": {},
   "outputs": [
    {
     "name": "stdout",
     "output_type": "stream",
     "text": [
      "08-05-2023, Monday - teclado\n",
      "09-05-2023, Tuesday - reserve\n",
      "10-05-2023, Wednesday - freelance\n",
      "11-05-2023, Thursday - reserve\n",
      "12-05-2023, Friday - leetcode\n",
      "13-05-2023, Saturday - reserve\n",
      "14-05-2023, Sunday - kaggle\n",
      "15-05-2023, Monday - reserve\n",
      "16-05-2023, Tuesday - PyQT\n",
      "17-05-2023, Wednesday - reserve\n",
      "18-05-2023, Thursday - testing_eng\n",
      "19-05-2023, Friday - reserve\n",
      "20-05-2023, Saturday - writing_eng\n",
      "21-05-2023, Sunday - reserve\n"
     ]
    }
   ],
   "source": [
    "import random\n",
    "from datetime import date, timedelta\n",
    "\n",
    "activities = ['kaggle', 'leetcode', 'teclado', 'PyQT', 'testing_eng', 'writing_eng', 'freelance']\n",
    "\n",
    "# Shuffle the activities randomly\n",
    "random.shuffle(activities)\n",
    "\n",
    "def generate_schedule(start_date, activities):\n",
    "    schedule = {}\n",
    "    current_date = start_date\n",
    "    activity_index = 0\n",
    "\n",
    "    for _ in range(14):\n",
    "        if _ % 2 == 1:  # if current index is not even\n",
    "            schedule[current_date] = \"reserve\"  # add a 'reserve' day\n",
    "        else:\n",
    "            schedule[current_date] = activities[activity_index]  # add an activity\n",
    "            activity_index += 1\n",
    "            if activity_index == len(activities):\n",
    "                activity_index = 0\n",
    "        current_date += timedelta(days=1)\n",
    "\n",
    "    return schedule\n",
    "\n",
    "# Set the start date as the upcoming Monday\n",
    "today = date.today()\n",
    "start_date = today + timedelta(days=(7 - today.weekday()))\n",
    "\n",
    "# Generate the schedule and display it\n",
    "two_week_schedule = generate_schedule(start_date, activities)\n",
    "\n",
    "for day, activity in two_week_schedule.items():\n",
    "    print(day.strftime('%d-%m-%Y, %A'), \"-\", activity)"
   ]
  }
 ],
 "metadata": {
  "kernelspec": {
   "display_name": "Python 3 (ipykernel)",
   "language": "python",
   "name": "python3"
  },
  "language_info": {
   "codemirror_mode": {
    "name": "ipython",
    "version": 3
   },
   "file_extension": ".py",
   "mimetype": "text/x-python",
   "name": "python",
   "nbconvert_exporter": "python",
   "pygments_lexer": "ipython3",
   "version": "3.9.12"
  }
 },
 "nbformat": 4,
 "nbformat_minor": 5
}
